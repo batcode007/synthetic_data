{
 "cells": [
  {
   "cell_type": "code",
   "execution_count": 1,
   "id": "55df3d17-b288-4cba-bd55-ab93de1295b5",
   "metadata": {},
   "outputs": [],
   "source": [
    "# !brew install graphviz\n",
    "# !pip3 install sdv"
   ]
  },
  {
   "cell_type": "code",
   "execution_count": 1,
   "id": "c5f891bc-7722-4f5e-8005-563ee50108c7",
   "metadata": {},
   "outputs": [],
   "source": [
    "import pandas as pd\n",
    "from sdv.metadata import Metadata\n",
    "from sdv.single_table import GaussianCopulaSynthesizer\n",
    "from sdv.datasets.demo import download_demo\n",
    "from sdv.evaluation.single_table import run_diagnostic\n",
    "# from sdv.constraints import FixedInSet"
   ]
  },
  {
   "cell_type": "code",
   "execution_count": 2,
   "id": "fc706fee-a872-462a-9324-5f65f482df71",
   "metadata": {},
   "outputs": [],
   "source": [
    "real_data, metadata = download_demo(\n",
    "    modality='single_table',\n",
    "    dataset_name='fake_hotel_guests'\n",
    ")"
   ]
  },
  {
   "cell_type": "code",
   "execution_count": 3,
   "id": "0146c76f-0ff3-467e-9bb2-1ac38917c57c",
   "metadata": {},
   "outputs": [
    {
     "data": {
      "text/html": [
       "<div>\n",
       "<style scoped>\n",
       "    .dataframe tbody tr th:only-of-type {\n",
       "        vertical-align: middle;\n",
       "    }\n",
       "\n",
       "    .dataframe tbody tr th {\n",
       "        vertical-align: top;\n",
       "    }\n",
       "\n",
       "    .dataframe thead th {\n",
       "        text-align: right;\n",
       "    }\n",
       "</style>\n",
       "<table border=\"1\" class=\"dataframe\">\n",
       "  <thead>\n",
       "    <tr style=\"text-align: right;\">\n",
       "      <th></th>\n",
       "      <th>guest_email</th>\n",
       "      <th>has_rewards</th>\n",
       "      <th>room_type</th>\n",
       "      <th>amenities_fee</th>\n",
       "      <th>checkin_date</th>\n",
       "      <th>checkout_date</th>\n",
       "      <th>room_rate</th>\n",
       "      <th>billing_address</th>\n",
       "      <th>credit_card_number</th>\n",
       "    </tr>\n",
       "  </thead>\n",
       "  <tbody>\n",
       "    <tr>\n",
       "      <th>0</th>\n",
       "      <td>michaelsanders@shaw.net</td>\n",
       "      <td>False</td>\n",
       "      <td>BASIC</td>\n",
       "      <td>37.89</td>\n",
       "      <td>27 Dec 2020</td>\n",
       "      <td>29 Dec 2020</td>\n",
       "      <td>131.23</td>\n",
       "      <td>49380 Rivers Street\\nSpencerville, AK 68265</td>\n",
       "      <td>4075084747483975747</td>\n",
       "    </tr>\n",
       "    <tr>\n",
       "      <th>1</th>\n",
       "      <td>randy49@brown.biz</td>\n",
       "      <td>False</td>\n",
       "      <td>BASIC</td>\n",
       "      <td>24.37</td>\n",
       "      <td>30 Dec 2020</td>\n",
       "      <td>02 Jan 2021</td>\n",
       "      <td>114.43</td>\n",
       "      <td>88394 Boyle Meadows\\nConleyberg, TN 22063</td>\n",
       "      <td>180072822063468</td>\n",
       "    </tr>\n",
       "    <tr>\n",
       "      <th>2</th>\n",
       "      <td>webermelissa@neal.com</td>\n",
       "      <td>True</td>\n",
       "      <td>DELUXE</td>\n",
       "      <td>0.00</td>\n",
       "      <td>17 Sep 2020</td>\n",
       "      <td>18 Sep 2020</td>\n",
       "      <td>368.33</td>\n",
       "      <td>0323 Lisa Station Apt. 208\\nPort Thomas, LA 82585</td>\n",
       "      <td>38983476971380</td>\n",
       "    </tr>\n",
       "    <tr>\n",
       "      <th>3</th>\n",
       "      <td>gsims@terry.com</td>\n",
       "      <td>False</td>\n",
       "      <td>BASIC</td>\n",
       "      <td>NaN</td>\n",
       "      <td>28 Dec 2020</td>\n",
       "      <td>31 Dec 2020</td>\n",
       "      <td>115.61</td>\n",
       "      <td>77 Massachusetts Ave\\nCambridge, MA 02139</td>\n",
       "      <td>4969551998845740</td>\n",
       "    </tr>\n",
       "    <tr>\n",
       "      <th>4</th>\n",
       "      <td>misty33@smith.biz</td>\n",
       "      <td>False</td>\n",
       "      <td>BASIC</td>\n",
       "      <td>16.45</td>\n",
       "      <td>05 Apr 2020</td>\n",
       "      <td>NaN</td>\n",
       "      <td>122.41</td>\n",
       "      <td>1234 Corporate Drive\\nBoston, MA 02116</td>\n",
       "      <td>3558512986488983</td>\n",
       "    </tr>\n",
       "  </tbody>\n",
       "</table>\n",
       "</div>"
      ],
      "text/plain": [
       "               guest_email  has_rewards room_type  amenities_fee checkin_date  \\\n",
       "0  michaelsanders@shaw.net        False     BASIC          37.89  27 Dec 2020   \n",
       "1        randy49@brown.biz        False     BASIC          24.37  30 Dec 2020   \n",
       "2    webermelissa@neal.com         True    DELUXE           0.00  17 Sep 2020   \n",
       "3          gsims@terry.com        False     BASIC            NaN  28 Dec 2020   \n",
       "4        misty33@smith.biz        False     BASIC          16.45  05 Apr 2020   \n",
       "\n",
       "  checkout_date  room_rate                                    billing_address  \\\n",
       "0   29 Dec 2020     131.23        49380 Rivers Street\\nSpencerville, AK 68265   \n",
       "1   02 Jan 2021     114.43          88394 Boyle Meadows\\nConleyberg, TN 22063   \n",
       "2   18 Sep 2020     368.33  0323 Lisa Station Apt. 208\\nPort Thomas, LA 82585   \n",
       "3   31 Dec 2020     115.61          77 Massachusetts Ave\\nCambridge, MA 02139   \n",
       "4           NaN     122.41             1234 Corporate Drive\\nBoston, MA 02116   \n",
       "\n",
       "    credit_card_number  \n",
       "0  4075084747483975747  \n",
       "1      180072822063468  \n",
       "2       38983476971380  \n",
       "3     4969551998845740  \n",
       "4     3558512986488983  "
      ]
     },
     "execution_count": 3,
     "metadata": {},
     "output_type": "execute_result"
    }
   ],
   "source": [
    "real_data.head()"
   ]
  },
  {
   "cell_type": "code",
   "execution_count": 4,
   "id": "b2b15220-8002-4502-8d40-67bc1bab1e25",
   "metadata": {},
   "outputs": [
    {
     "data": {
      "image/svg+xml": [
       "<?xml version=\"1.0\" encoding=\"UTF-8\" standalone=\"no\"?>\n",
       "<!DOCTYPE svg PUBLIC \"-//W3C//DTD SVG 1.1//EN\"\n",
       " \"http://www.w3.org/Graphics/SVG/1.1/DTD/svg11.dtd\">\n",
       "<!-- Generated by graphviz version 12.2.1 (20241206.2353)\n",
       " -->\n",
       "<!-- Title: Metadata Pages: 1 -->\n",
       "<svg width=\"254pt\" height=\"215pt\"\n",
       " viewBox=\"0.00 0.00 254.25 214.50\" xmlns=\"http://www.w3.org/2000/svg\" xmlns:xlink=\"http://www.w3.org/1999/xlink\">\n",
       "<g id=\"graph0\" class=\"graph\" transform=\"scale(1 1) rotate(0) translate(4 210.5)\">\n",
       "<title>Metadata</title>\n",
       "<polygon fill=\"white\" stroke=\"none\" points=\"-4,4 -4,-210.5 250.25,-210.5 250.25,4 -4,4\"/>\n",
       "<!-- fake_hotel_guests -->\n",
       "<g id=\"node1\" class=\"node\">\n",
       "<title>fake_hotel_guests</title>\n",
       "<path fill=\"#ffec8b\" stroke=\"black\" d=\"M12,-0.5C12,-0.5 234.25,-0.5 234.25,-0.5 240.25,-0.5 246.25,-6.5 246.25,-12.5 246.25,-12.5 246.25,-194 246.25,-194 246.25,-200 240.25,-206 234.25,-206 234.25,-206 12,-206 12,-206 6,-206 0,-200 0,-194 0,-194 0,-12.5 0,-12.5 0,-6.5 6,-0.5 12,-0.5\"/>\n",
       "<text text-anchor=\"middle\" x=\"123.12\" y=\"-188.7\" font-family=\"Times,serif\" font-size=\"14.00\">fake_hotel_guests</text>\n",
       "<polyline fill=\"none\" stroke=\"black\" points=\"0,-181.5 246.25,-181.5\"/>\n",
       "<text text-anchor=\"start\" x=\"8\" y=\"-164.2\" font-family=\"Times,serif\" font-size=\"14.00\">guest_email : email</text>\n",
       "<text text-anchor=\"start\" x=\"8\" y=\"-147.7\" font-family=\"Times,serif\" font-size=\"14.00\">has_rewards : boolean</text>\n",
       "<text text-anchor=\"start\" x=\"8\" y=\"-131.2\" font-family=\"Times,serif\" font-size=\"14.00\">room_type : categorical</text>\n",
       "<text text-anchor=\"start\" x=\"8\" y=\"-114.7\" font-family=\"Times,serif\" font-size=\"14.00\">amenities_fee : numerical</text>\n",
       "<text text-anchor=\"start\" x=\"8\" y=\"-98.2\" font-family=\"Times,serif\" font-size=\"14.00\">checkin_date : datetime</text>\n",
       "<text text-anchor=\"start\" x=\"8\" y=\"-81.7\" font-family=\"Times,serif\" font-size=\"14.00\">checkout_date : datetime</text>\n",
       "<text text-anchor=\"start\" x=\"8\" y=\"-65.2\" font-family=\"Times,serif\" font-size=\"14.00\">room_rate : numerical</text>\n",
       "<text text-anchor=\"start\" x=\"8\" y=\"-48.7\" font-family=\"Times,serif\" font-size=\"14.00\">billing_address : address</text>\n",
       "<text text-anchor=\"start\" x=\"8\" y=\"-32.2\" font-family=\"Times,serif\" font-size=\"14.00\">credit_card_number : credit_card_number</text>\n",
       "<polyline fill=\"none\" stroke=\"black\" points=\"0,-25 246.25,-25\"/>\n",
       "<text text-anchor=\"start\" x=\"8\" y=\"-7.7\" font-family=\"Times,serif\" font-size=\"14.00\">Primary key: guest_email</text>\n",
       "</g>\n",
       "</g>\n",
       "</svg>\n"
      ],
      "text/plain": [
       "<graphviz.graphs.Digraph at 0x166ddeed0>"
      ]
     },
     "execution_count": 4,
     "metadata": {},
     "output_type": "execute_result"
    }
   ],
   "source": [
    "metadata.visualize()"
   ]
  },
  {
   "cell_type": "code",
   "execution_count": 5,
   "id": "1dc42fa6-5a06-40df-ba9a-278e652be36d",
   "metadata": {},
   "outputs": [],
   "source": [
    "synthesizer = GaussianCopulaSynthesizer(metadata)\n",
    "synthesizer.fit(real_data)"
   ]
  },
  {
   "cell_type": "code",
   "execution_count": 6,
   "id": "82ec1900-0136-4c8f-b6f1-68c0b05df176",
   "metadata": {},
   "outputs": [
    {
     "data": {
      "text/html": [
       "<div>\n",
       "<style scoped>\n",
       "    .dataframe tbody tr th:only-of-type {\n",
       "        vertical-align: middle;\n",
       "    }\n",
       "\n",
       "    .dataframe tbody tr th {\n",
       "        vertical-align: top;\n",
       "    }\n",
       "\n",
       "    .dataframe thead th {\n",
       "        text-align: right;\n",
       "    }\n",
       "</style>\n",
       "<table border=\"1\" class=\"dataframe\">\n",
       "  <thead>\n",
       "    <tr style=\"text-align: right;\">\n",
       "      <th></th>\n",
       "      <th>guest_email</th>\n",
       "      <th>has_rewards</th>\n",
       "      <th>room_type</th>\n",
       "      <th>amenities_fee</th>\n",
       "      <th>checkin_date</th>\n",
       "      <th>checkout_date</th>\n",
       "      <th>room_rate</th>\n",
       "      <th>billing_address</th>\n",
       "      <th>credit_card_number</th>\n",
       "    </tr>\n",
       "  </thead>\n",
       "  <tbody>\n",
       "    <tr>\n",
       "      <th>0</th>\n",
       "      <td>dsullivan@example.net</td>\n",
       "      <td>True</td>\n",
       "      <td>BASIC</td>\n",
       "      <td>2.34</td>\n",
       "      <td>26 Mar 2020</td>\n",
       "      <td>11 Apr 2020</td>\n",
       "      <td>119.53</td>\n",
       "      <td>90469 Karla Knolls Apt. 781\\nSusanberg, CA 70033</td>\n",
       "      <td>5161033759518983</td>\n",
       "    </tr>\n",
       "    <tr>\n",
       "      <th>1</th>\n",
       "      <td>steven59@example.org</td>\n",
       "      <td>False</td>\n",
       "      <td>DELUXE</td>\n",
       "      <td>NaN</td>\n",
       "      <td>02 Jul 2020</td>\n",
       "      <td>14 Sep 2020</td>\n",
       "      <td>174.70</td>\n",
       "      <td>6108 Carla Ports Apt. 116\\nPort Evan, MI 71694</td>\n",
       "      <td>4133047413145475690</td>\n",
       "    </tr>\n",
       "    <tr>\n",
       "      <th>2</th>\n",
       "      <td>brandon15@example.net</td>\n",
       "      <td>False</td>\n",
       "      <td>BASIC</td>\n",
       "      <td>22.08</td>\n",
       "      <td>30 Mar 2020</td>\n",
       "      <td>17 Mar 2020</td>\n",
       "      <td>148.34</td>\n",
       "      <td>86709 Jeremy Manors Apt. 786\\nPort Garychester...</td>\n",
       "      <td>4977328103788</td>\n",
       "    </tr>\n",
       "    <tr>\n",
       "      <th>3</th>\n",
       "      <td>humphreyjennifer@example.net</td>\n",
       "      <td>False</td>\n",
       "      <td>BASIC</td>\n",
       "      <td>8.18</td>\n",
       "      <td>03 May 2020</td>\n",
       "      <td>22 May 2020</td>\n",
       "      <td>177.51</td>\n",
       "      <td>8906 Bobby Trail\\nEast Sandra, NY 43986</td>\n",
       "      <td>3524946844839485</td>\n",
       "    </tr>\n",
       "    <tr>\n",
       "      <th>4</th>\n",
       "      <td>joshuabrown@example.net</td>\n",
       "      <td>False</td>\n",
       "      <td>SUITE</td>\n",
       "      <td>7.69</td>\n",
       "      <td>13 Jan 2020</td>\n",
       "      <td>10 Jan 2020</td>\n",
       "      <td>187.93</td>\n",
       "      <td>732 Dennis Lane\\nPort Nicholasstad, DE 49786</td>\n",
       "      <td>4446905799576890978</td>\n",
       "    </tr>\n",
       "  </tbody>\n",
       "</table>\n",
       "</div>"
      ],
      "text/plain": [
       "                    guest_email  has_rewards room_type  amenities_fee  \\\n",
       "0         dsullivan@example.net         True     BASIC           2.34   \n",
       "1          steven59@example.org        False    DELUXE            NaN   \n",
       "2         brandon15@example.net        False     BASIC          22.08   \n",
       "3  humphreyjennifer@example.net        False     BASIC           8.18   \n",
       "4       joshuabrown@example.net        False     SUITE           7.69   \n",
       "\n",
       "  checkin_date checkout_date  room_rate  \\\n",
       "0  26 Mar 2020   11 Apr 2020     119.53   \n",
       "1  02 Jul 2020   14 Sep 2020     174.70   \n",
       "2  30 Mar 2020   17 Mar 2020     148.34   \n",
       "3  03 May 2020   22 May 2020     177.51   \n",
       "4  13 Jan 2020   10 Jan 2020     187.93   \n",
       "\n",
       "                                     billing_address   credit_card_number  \n",
       "0   90469 Karla Knolls Apt. 781\\nSusanberg, CA 70033     5161033759518983  \n",
       "1     6108 Carla Ports Apt. 116\\nPort Evan, MI 71694  4133047413145475690  \n",
       "2  86709 Jeremy Manors Apt. 786\\nPort Garychester...        4977328103788  \n",
       "3            8906 Bobby Trail\\nEast Sandra, NY 43986     3524946844839485  \n",
       "4       732 Dennis Lane\\nPort Nicholasstad, DE 49786  4446905799576890978  "
      ]
     },
     "execution_count": 6,
     "metadata": {},
     "output_type": "execute_result"
    }
   ],
   "source": [
    "synthetic_data = synthesizer.sample(num_rows=50)\n",
    "synthetic_data.head()"
   ]
  },
  {
   "cell_type": "code",
   "execution_count": 11,
   "id": "d4c3af9c-942c-4717-832f-29cfc7b47b23",
   "metadata": {},
   "outputs": [
    {
     "data": {
      "text/plain": [
       "'All primary keys must be unique\\nContinuous values must adhere to the min/max of the real data\\nDiscrete columns (non-PII) must have the same categories as the real data'"
      ]
     },
     "execution_count": 11,
     "metadata": {},
     "output_type": "execute_result"
    }
   ],
   "source": [
    "'''All primary keys must be unique\n",
    "Continuous values must adhere to the min/max of the real data\n",
    "Discrete columns (non-PII) must have the same categories as the real data'''"
   ]
  },
  {
   "cell_type": "code",
   "execution_count": 7,
   "id": "d4eb555c-d5e1-41f8-8e6b-39a0f4cc2ed6",
   "metadata": {},
   "outputs": [
    {
     "name": "stdout",
     "output_type": "stream",
     "text": [
      "Generating report ...\n",
      "\n",
      "(1/2) Evaluating Data Validity: |██████████████| 9/9 [00:00<00:00, 1086.92it/s]|\n",
      "Data Validity Score: 100.0%\n",
      "\n",
      "(2/2) Evaluating Data Structure: |██████████████| 1/1 [00:00<00:00, 235.69it/s]|\n",
      "Data Structure Score: 100.0%\n",
      "\n",
      "Overall Score (Average): 100.0%\n",
      "\n"
     ]
    }
   ],
   "source": [
    "diagnostic = run_diagnostic(\n",
    "    real_data=real_data,\n",
    "    synthetic_data=synthetic_data,\n",
    "    metadata=metadata\n",
    ")"
   ]
  },
  {
   "cell_type": "code",
   "execution_count": 8,
   "id": "047e8283-8f86-49dc-b193-e68b13bee3c8",
   "metadata": {},
   "outputs": [
    {
     "name": "stdout",
     "output_type": "stream",
     "text": [
      "Generating report ...\n",
      "\n",
      "(1/2) Evaluating Column Shapes: |███████████████| 9/9 [00:00<00:00, 720.81it/s]|\n",
      "Column Shapes Score: 85.81%\n",
      "\n",
      "(2/2) Evaluating Column Pair Trends: |████████| 36/36 [00:00<00:00, 771.76it/s]|\n",
      "Column Pair Trends Score: 78.26%\n",
      "\n",
      "Overall Score (Average): 82.04%\n",
      "\n"
     ]
    }
   ],
   "source": [
    "from sdv.evaluation.single_table import evaluate_quality\n",
    "\n",
    "quality_report = evaluate_quality(\n",
    "    real_data,\n",
    "    synthetic_data,\n",
    "    metadata\n",
    ")"
   ]
  },
  {
   "cell_type": "code",
   "execution_count": 9,
   "id": "c046fbc1-2dc1-483a-b80e-fd22856dee70",
   "metadata": {},
   "outputs": [
    {
     "data": {
      "text/html": [
       "<div>\n",
       "<style scoped>\n",
       "    .dataframe tbody tr th:only-of-type {\n",
       "        vertical-align: middle;\n",
       "    }\n",
       "\n",
       "    .dataframe tbody tr th {\n",
       "        vertical-align: top;\n",
       "    }\n",
       "\n",
       "    .dataframe thead th {\n",
       "        text-align: right;\n",
       "    }\n",
       "</style>\n",
       "<table border=\"1\" class=\"dataframe\">\n",
       "  <thead>\n",
       "    <tr style=\"text-align: right;\">\n",
       "      <th></th>\n",
       "      <th>Column</th>\n",
       "      <th>Metric</th>\n",
       "      <th>Score</th>\n",
       "    </tr>\n",
       "  </thead>\n",
       "  <tbody>\n",
       "    <tr>\n",
       "      <th>0</th>\n",
       "      <td>has_rewards</td>\n",
       "      <td>TVComplement</td>\n",
       "      <td>0.966000</td>\n",
       "    </tr>\n",
       "    <tr>\n",
       "      <th>1</th>\n",
       "      <td>room_type</td>\n",
       "      <td>TVComplement</td>\n",
       "      <td>0.948000</td>\n",
       "    </tr>\n",
       "    <tr>\n",
       "      <th>2</th>\n",
       "      <td>amenities_fee</td>\n",
       "      <td>KSComplement</td>\n",
       "      <td>0.665690</td>\n",
       "    </tr>\n",
       "    <tr>\n",
       "      <th>3</th>\n",
       "      <td>checkin_date</td>\n",
       "      <td>KSComplement</td>\n",
       "      <td>0.908000</td>\n",
       "    </tr>\n",
       "    <tr>\n",
       "      <th>4</th>\n",
       "      <td>checkout_date</td>\n",
       "      <td>KSComplement</td>\n",
       "      <td>0.941123</td>\n",
       "    </tr>\n",
       "    <tr>\n",
       "      <th>5</th>\n",
       "      <td>room_rate</td>\n",
       "      <td>KSComplement</td>\n",
       "      <td>0.720000</td>\n",
       "    </tr>\n",
       "  </tbody>\n",
       "</table>\n",
       "</div>"
      ],
      "text/plain": [
       "          Column        Metric     Score\n",
       "0    has_rewards  TVComplement  0.966000\n",
       "1      room_type  TVComplement  0.948000\n",
       "2  amenities_fee  KSComplement  0.665690\n",
       "3   checkin_date  KSComplement  0.908000\n",
       "4  checkout_date  KSComplement  0.941123\n",
       "5      room_rate  KSComplement  0.720000"
      ]
     },
     "execution_count": 9,
     "metadata": {},
     "output_type": "execute_result"
    }
   ],
   "source": [
    "quality_report.get_details('Column Shapes')"
   ]
  },
  {
   "cell_type": "code",
   "execution_count": 10,
   "id": "2e8a45d4-ed73-4d89-82d7-73c09e9cb8cb",
   "metadata": {},
   "outputs": [
    {
     "data": {
      "text/html": [
       "<iframe\n",
       "    scrolling=\"no\"\n",
       "    width=\"100%\"\n",
       "    height=\"545px\"\n",
       "    src=\"iframe_figures/figure_10.html\"\n",
       "    frameborder=\"0\"\n",
       "    allowfullscreen\n",
       "></iframe>\n"
      ]
     },
     "metadata": {},
     "output_type": "display_data"
    }
   ],
   "source": [
    "from sdv.evaluation.single_table import get_column_plot\n",
    "\n",
    "fig = get_column_plot(\n",
    "    real_data=real_data,\n",
    "    synthetic_data=synthetic_data,\n",
    "    column_name='room_rate',\n",
    "    metadata=metadata\n",
    ")\n",
    "\n",
    "fig.show()"
   ]
  },
  {
   "cell_type": "code",
   "execution_count": 11,
   "id": "86c6baee-704d-4442-af7b-237282668db3",
   "metadata": {},
   "outputs": [
    {
     "data": {
      "text/html": [
       "<div>\n",
       "<style scoped>\n",
       "    .dataframe tbody tr th:only-of-type {\n",
       "        vertical-align: middle;\n",
       "    }\n",
       "\n",
       "    .dataframe tbody tr th {\n",
       "        vertical-align: top;\n",
       "    }\n",
       "\n",
       "    .dataframe thead th {\n",
       "        text-align: right;\n",
       "    }\n",
       "</style>\n",
       "<table border=\"1\" class=\"dataframe\">\n",
       "  <thead>\n",
       "    <tr style=\"text-align: right;\">\n",
       "      <th></th>\n",
       "      <th>guest_email</th>\n",
       "      <th>billing_address</th>\n",
       "      <th>credit_card_number</th>\n",
       "    </tr>\n",
       "  </thead>\n",
       "  <tbody>\n",
       "    <tr>\n",
       "      <th>0</th>\n",
       "      <td>michaelsanders@shaw.net</td>\n",
       "      <td>49380 Rivers Street\\nSpencerville, AK 68265</td>\n",
       "      <td>4075084747483975747</td>\n",
       "    </tr>\n",
       "    <tr>\n",
       "      <th>1</th>\n",
       "      <td>randy49@brown.biz</td>\n",
       "      <td>88394 Boyle Meadows\\nConleyberg, TN 22063</td>\n",
       "      <td>180072822063468</td>\n",
       "    </tr>\n",
       "    <tr>\n",
       "      <th>2</th>\n",
       "      <td>webermelissa@neal.com</td>\n",
       "      <td>0323 Lisa Station Apt. 208\\nPort Thomas, LA 82585</td>\n",
       "      <td>38983476971380</td>\n",
       "    </tr>\n",
       "  </tbody>\n",
       "</table>\n",
       "</div>"
      ],
      "text/plain": [
       "               guest_email                                    billing_address  \\\n",
       "0  michaelsanders@shaw.net        49380 Rivers Street\\nSpencerville, AK 68265   \n",
       "1        randy49@brown.biz          88394 Boyle Meadows\\nConleyberg, TN 22063   \n",
       "2    webermelissa@neal.com  0323 Lisa Station Apt. 208\\nPort Thomas, LA 82585   \n",
       "\n",
       "    credit_card_number  \n",
       "0  4075084747483975747  \n",
       "1      180072822063468  \n",
       "2       38983476971380  "
      ]
     },
     "execution_count": 11,
     "metadata": {},
     "output_type": "execute_result"
    }
   ],
   "source": [
    "sensitive_column_names = ['guest_email', 'billing_address', 'credit_card_number']\n",
    "\n",
    "real_data[sensitive_column_names].head(3)"
   ]
  },
  {
   "cell_type": "code",
   "execution_count": 12,
   "id": "704213c6-8ef4-4057-be60-30eed25b20bd",
   "metadata": {},
   "outputs": [
    {
     "data": {
      "text/html": [
       "<div>\n",
       "<style scoped>\n",
       "    .dataframe tbody tr th:only-of-type {\n",
       "        vertical-align: middle;\n",
       "    }\n",
       "\n",
       "    .dataframe tbody tr th {\n",
       "        vertical-align: top;\n",
       "    }\n",
       "\n",
       "    .dataframe thead th {\n",
       "        text-align: right;\n",
       "    }\n",
       "</style>\n",
       "<table border=\"1\" class=\"dataframe\">\n",
       "  <thead>\n",
       "    <tr style=\"text-align: right;\">\n",
       "      <th></th>\n",
       "      <th>guest_email</th>\n",
       "      <th>billing_address</th>\n",
       "      <th>credit_card_number</th>\n",
       "    </tr>\n",
       "  </thead>\n",
       "  <tbody>\n",
       "    <tr>\n",
       "      <th>0</th>\n",
       "      <td>dsullivan@example.net</td>\n",
       "      <td>90469 Karla Knolls Apt. 781\\nSusanberg, CA 70033</td>\n",
       "      <td>5161033759518983</td>\n",
       "    </tr>\n",
       "    <tr>\n",
       "      <th>1</th>\n",
       "      <td>steven59@example.org</td>\n",
       "      <td>6108 Carla Ports Apt. 116\\nPort Evan, MI 71694</td>\n",
       "      <td>4133047413145475690</td>\n",
       "    </tr>\n",
       "    <tr>\n",
       "      <th>2</th>\n",
       "      <td>brandon15@example.net</td>\n",
       "      <td>86709 Jeremy Manors Apt. 786\\nPort Garychester...</td>\n",
       "      <td>4977328103788</td>\n",
       "    </tr>\n",
       "  </tbody>\n",
       "</table>\n",
       "</div>"
      ],
      "text/plain": [
       "             guest_email                                    billing_address  \\\n",
       "0  dsullivan@example.net   90469 Karla Knolls Apt. 781\\nSusanberg, CA 70033   \n",
       "1   steven59@example.org     6108 Carla Ports Apt. 116\\nPort Evan, MI 71694   \n",
       "2  brandon15@example.net  86709 Jeremy Manors Apt. 786\\nPort Garychester...   \n",
       "\n",
       "    credit_card_number  \n",
       "0     5161033759518983  \n",
       "1  4133047413145475690  \n",
       "2        4977328103788  "
      ]
     },
     "execution_count": 12,
     "metadata": {},
     "output_type": "execute_result"
    }
   ],
   "source": [
    "synthetic_data[sensitive_column_names].head(3)"
   ]
  },
  {
   "cell_type": "code",
   "execution_count": 13,
   "id": "3b15b1bb-a298-4cc4-b144-a60cd0451acf",
   "metadata": {},
   "outputs": [],
   "source": [
    "from sdv.metadata import SingleTableMetadata"
   ]
  },
  {
   "cell_type": "code",
   "execution_count": 14,
   "id": "269a6b50-08bc-4a4a-b3b0-59d43eea7de5",
   "metadata": {},
   "outputs": [],
   "source": [
    "metadata = SingleTableMetadata()\n",
    "metadata.detect_from_dataframe(real_data)\n"
   ]
  },
  {
   "cell_type": "code",
   "execution_count": null,
   "id": "5c0fa4cf-95eb-4738-8490-4d685ac00110",
   "metadata": {},
   "outputs": [],
   "source": []
  }
 ],
 "metadata": {
  "kernelspec": {
   "display_name": "Python 3 (ipykernel)",
   "language": "python",
   "name": "python3"
  },
  "language_info": {
   "codemirror_mode": {
    "name": "ipython",
    "version": 3
   },
   "file_extension": ".py",
   "mimetype": "text/x-python",
   "name": "python",
   "nbconvert_exporter": "python",
   "pygments_lexer": "ipython3",
   "version": "3.12.4"
  }
 },
 "nbformat": 4,
 "nbformat_minor": 5
}
